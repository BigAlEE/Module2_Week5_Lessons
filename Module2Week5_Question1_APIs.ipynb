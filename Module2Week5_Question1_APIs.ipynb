{
 "cells": [
  {
   "cell_type": "code",
   "execution_count": 1,
   "id": "3d1d8817",
   "metadata": {},
   "outputs": [],
   "source": [
    "import pandas as pd\n",
    "import requests"
   ]
  },
  {
   "cell_type": "code",
   "execution_count": null,
   "id": "b3e10113",
   "metadata": {},
   "outputs": [
    {
     "name": "stdout",
     "output_type": "stream",
     "text": [
      "<Response [200]>\n"
     ]
    }
   ],
   "source": [
    "url = \"https://meowfacts.herokuapp.com/?count=10\"\n",
    "response = requests.get(url)\n",
    "# print(response)"
   ]
  },
  {
   "cell_type": "code",
   "execution_count": 6,
   "id": "a7951748",
   "metadata": {},
   "outputs": [
    {
     "name": "stdout",
     "output_type": "stream",
     "text": [
      "success!\n",
      "                                                data\n",
      "0  A cat can sprint at about thirty-one miles per...\n",
      "1      Cats can drink sea water in order to survive.\n",
      "2  When cats grimace, they are usually \"taste-sce...\n",
      "3  Cats have individual preferences for scratchin...\n",
      "4  The worlds largest cat measured 48.5 inches lo...\n",
      "5  Cheetahs communicate by purring and meowing li...\n",
      "6               A group of cats is called a clowder.\n",
      "7  Cats are often lactose intolerant, so stop giv...\n",
      "8  Wikipedia has a recording of a cat meowing bec...\n",
      "9  The worlds richest cat is worth $13 million af...\n"
     ]
    }
   ],
   "source": [
    "# Check if the request was successful\n",
    "if response.status_code == 200:\n",
    "    data = response.json()\n",
    "    print('success!')\n",
    "else:\n",
    "    print(f\"Error: {response.status_code}\")\n",
    "\n",
    "df = pd.DataFrame(data)\n",
    "print(df)"
   ]
  }
 ],
 "metadata": {
  "kernelspec": {
   "display_name": "Python 3",
   "language": "python",
   "name": "python3"
  },
  "language_info": {
   "codemirror_mode": {
    "name": "ipython",
    "version": 3
   },
   "file_extension": ".py",
   "mimetype": "text/x-python",
   "name": "python",
   "nbconvert_exporter": "python",
   "pygments_lexer": "ipython3",
   "version": "3.13.2"
  }
 },
 "nbformat": 4,
 "nbformat_minor": 5
}
